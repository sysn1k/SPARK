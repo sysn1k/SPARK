{
 "cells": [
  {
   "cell_type": "markdown",
   "metadata": {
    "toc": true
   },
   "source": [
    "<h1>Table of Contents<span class=\"tocSkip\"></span></h1>\n",
    "<div class=\"toc\"><ul class=\"toc-item\"><li><span><a href=\"#по-данным-habr_data-получить-таблицу-с-названиями-топ-3-статей-(по-rating)-для-каждого-автора-DataFrame:-[“author”,-“article_title”,-“position”-(1,-2,-3)]\" data-toc-modified-id=\"по-данным-habr_data-получить-таблицу-с-названиями-топ-3-статей-(по-rating)-для-каждого-автора-DataFrame:-[“author”,-“article_title”,-“position”-(1,-2,-3)]-1\"><span class=\"toc-item-num\">1&nbsp;&nbsp;</span>по данным habr_data получить таблицу с названиями топ-3 статей (по rating) для каждого автора DataFrame: [“author”, “article_title”, “position” (1, 2, 3)]</a></span></li><li><span><a href=\"#по-данным-habr_data-получить-топ-(по-встречаемости)-английских-слов-из-заголовков.-Возможное-решение:-1)-выделение-слов-с-помощью-регулярных-выражений,-2)-разделение-на-массивы-слов-3)-explode-массивовов-4)-группировка-с-подсчетом-встречаемости\" data-toc-modified-id=\"по-данным-habr_data-получить-топ-(по-встречаемости)-английских-слов-из-заголовков.-Возможное-решение:-1)-выделение-слов-с-помощью-регулярных-выражений,-2)-разделение-на-массивы-слов-3)-explode-массивовов-4)-группировка-с-подсчетом-встречаемости-2\"><span class=\"toc-item-num\">2&nbsp;&nbsp;</span>по данным habr_data получить топ (по встречаемости) английских слов из заголовков. Возможное решение: 1) выделение слов с помощью регулярных выражений, 2) разделение на массивы слов 3) explode массивовов 4) группировка с подсчетом встречаемости</a></span></li></ul></div>"
   ]
  },
  {
   "cell_type": "code",
   "execution_count": 88,
   "metadata": {
    "ExecuteTime": {
     "end_time": "2021-09-15T07:38:11.162779Z",
     "start_time": "2021-09-15T07:38:11.141176Z"
    }
   },
   "outputs": [],
   "source": [
    "from pyspark.sql import SparkSession\n",
    "from pyspark.sql.window import Window\n",
    "import pyspark.sql.functions as f\n",
    "from pyspark.sql.functions import *\n",
    "from pyspark.sql.types import *\n",
    "import seaborn as sns\n",
    "import matplotlib.pyplot as plt\n",
    "import re"
   ]
  },
  {
   "cell_type": "code",
   "execution_count": 2,
   "metadata": {
    "ExecuteTime": {
     "end_time": "2021-09-15T05:18:30.797034Z",
     "start_time": "2021-09-15T05:18:14.532794Z"
    }
   },
   "outputs": [],
   "source": [
    "spark = SparkSession.builder.appName('hm3').getOrCreate()"
   ]
  },
  {
   "cell_type": "code",
   "execution_count": 9,
   "metadata": {
    "ExecuteTime": {
     "end_time": "2021-09-15T05:24:08.116302Z",
     "start_time": "2021-09-15T05:24:06.957351Z"
    }
   },
   "outputs": [],
   "source": [
    "df_pyspark = spark.read.csv('C:\\\\Users\\\\sysn1\\\\OneDrive\\\\Рабочий стол\\\\SQL ssis\\\\habr_data.csv', header = True, inferSchema=True)"
   ]
  },
  {
   "cell_type": "markdown",
   "metadata": {},
   "source": [
    "### по данным habr_data получить таблицу с названиями топ-3 статей (по rating) для каждого автора DataFrame: [“author”, “article_title”, “position” (1, 2, 3)]"
   ]
  },
  {
   "cell_type": "code",
   "execution_count": 134,
   "metadata": {
    "ExecuteTime": {
     "end_time": "2021-09-15T08:07:10.608340Z",
     "start_time": "2021-09-15T08:07:10.550285Z"
    }
   },
   "outputs": [
    {
     "name": "stdout",
     "output_type": "stream",
     "text": [
      "root\n",
      " |-- author_name: string (nullable = true)\n",
      " |-- title: string (nullable = true)\n",
      " |-- rating: integer (nullable = true)\n",
      "\n"
     ]
    }
   ],
   "source": [
    "habr = df_pyspark.select(\n",
    "                        'author_name',\n",
    "                        'title',\n",
    "                        col('rating').cast(IntegerType())                   \n",
    "                        )\n",
    "\n",
    "habr = habr.dropna('any', subset='rating')\n",
    "\n",
    "habr.printSchema()"
   ]
  },
  {
   "cell_type": "code",
   "execution_count": 236,
   "metadata": {
    "ExecuteTime": {
     "end_time": "2021-09-15T10:30:34.134072Z",
     "start_time": "2021-09-15T10:30:34.023503Z"
    }
   },
   "outputs": [
    {
     "name": "stdout",
     "output_type": "stream",
     "text": [
      "+-----------------+--------------------+------+---+\n",
      "|      author_name|               title|rating|top|\n",
      "+-----------------+--------------------+------+---+\n",
      "|    Alik Chebotar|Массовая рассылка...|     3|  1|\n",
      "|   Andrey Nevolin|Измерение времени...|    39|  1|\n",
      "|   Eugene Voityuk|     Отстой ли XMPP?|    33|  1|\n",
      "|      Glyph media|«Всем иногда хоче...|    15|  1|\n",
      "|      HedgeInSmog|Подключение графи...|    23|  1|\n",
      "|  Mikhail Kulikov|Настройка окружен...|    18|  1|\n",
      "|  Nikolay Garmash|Коллекция инструм...|     0|  1|\n",
      "| Yuliya Statsenko|Dynamics 365 &amp...|     6|  1|\n",
      "|            mammy|Стивен Хокинг о р...|    14|  1|\n",
      "|            mammy|Большинство топ-м...|     7|  2|\n",
      "|        nomadmoon|Восстановление ба...|    22|  1|\n",
      "|       outcoldman|         WPF Browser|    10|  1|\n",
      "|Андрей Алексейчук|Битва SEC против ...|    21|  1|\n",
      "|  Анна Артамонова|Безопасность в ин...|    20|  1|\n",
      "|Балыбердин Андрей|Цифровое бессмерт...|    24|  1|\n",
      "| Вадим Закондырин|Обзор новых возмо...|    45|  1|\n",
      "| Вадим Закондырин|«constexpr» функц...|    31|  2|\n",
      "|Видео+Конференция|Как американский ...|    11|  1|\n",
      "|Видео+Конференция|Самое интересное ...|    11|  2|\n",
      "|Видео+Конференция|Наши в квадранте ...|     8|  3|\n",
      "+-----------------+--------------------+------+---+\n",
      "only showing top 20 rows\n",
      "\n"
     ]
    }
   ],
   "source": [
    "windowSpec = Window.partitionBy('author_name').orderBy(col('rating').desc())\n",
    "top_title = habr.withColumn('top', row_number().over(windowSpec))\n",
    "\n",
    "top_title = top_title.select('*').where('top < 4').cache()\n",
    "top_title.show()"
   ]
  },
  {
   "cell_type": "markdown",
   "metadata": {},
   "source": [
    "### по данным habr_data получить топ (по встречаемости) английских слов из заголовков. Возможное решение: 1) выделение слов с помощью регулярных выражений, 2) разделение на массивы слов 3) explode массивовов 4) группировка с подсчетом встречаемости"
   ]
  },
  {
   "cell_type": "code",
   "execution_count": 235,
   "metadata": {
    "ExecuteTime": {
     "end_time": "2021-09-15T10:30:29.937271Z",
     "start_time": "2021-09-15T10:30:29.736224Z"
    }
   },
   "outputs": [
    {
     "name": "stdout",
     "output_type": "stream",
     "text": [
      "+----------+-----+\n",
      "|  eng_word|count|\n",
      "+----------+-----+\n",
      "|    Google|  166|\n",
      "|         C|  101|\n",
      "|   Android|   94|\n",
      "|   Windows|   92|\n",
      "|      Java|   81|\n",
      "|       API|   72|\n",
      "|       PHP|   69|\n",
      "|         D|   66|\n",
      "|    Python|   62|\n",
      "|     Linux|   61|\n",
      "| Microsoft|   60|\n",
      "|      Data|   56|\n",
      "|       iOS|   50|\n",
      "|JavaScript|   49|\n",
      "|        IT|   48|\n",
      "|       SQL|   48|\n",
      "|        vs|   48|\n",
      "|  Telegram|   39|\n",
      "|Kubernetes|   38|\n",
      "|    Server|   38|\n",
      "|        Go|   37|\n",
      "|       Web|   36|\n",
      "|     Apple|   35|\n",
      "|     React|   34|\n",
      "|   Science|   32|\n",
      "|PostgreSQL|   32|\n",
      "|       for|   30|\n",
      "|         c|   30|\n",
      "|    Chrome|   30|\n",
      "|     Intel|   29|\n",
      "|    Spring|   27|\n",
      "|       NET|   26|\n",
      "|    Meetup|   26|\n",
      "|     Phone|   24|\n",
      "| Framework|   24|\n",
      "|      Mail|   23|\n",
      "|   Angular|   22|\n",
      "|         I|   22|\n",
      "|      HTML|   21|\n",
      "|      Core|   21|\n",
      "|      Ruby|   21|\n",
      "|     Azure|   20|\n",
      "|    Oracle|   20|\n",
      "|    Apache|   20|\n",
      "|        MS|   20|\n",
      "|       CSS|   20|\n",
      "|    Docker|   19|\n",
      "|     Cisco|   19|\n",
      "|        JS|   19|\n",
      "|    Zabbix|   18|\n",
      "+----------+-----+\n",
      "only showing top 50 rows\n",
      "\n"
     ]
    }
   ],
   "source": [
    "top_word = top_title.select('title')\\\n",
    "    .withColumn('check',split(col('title'),' '))\\\n",
    "    .select(col('title'), explode(col('check')).alias('explode') )\\\n",
    "    .withColumn('eng_word', regexp_extract(col('explode'), '[A-Za-z]+', 0) )\\\n",
    "    .where('eng_word != \"\"')\\\n",
    "    .groupBy('eng_word').count().orderBy(col('count').desc()).cache()\n",
    "\n",
    "top_word.show(50)"
   ]
  },
  {
   "cell_type": "code",
   "execution_count": null,
   "metadata": {},
   "outputs": [],
   "source": []
  }
 ],
 "metadata": {
  "kernelspec": {
   "display_name": "Python 3",
   "language": "python",
   "name": "python3"
  },
  "language_info": {
   "codemirror_mode": {
    "name": "ipython",
    "version": 3
   },
   "file_extension": ".py",
   "mimetype": "text/x-python",
   "name": "python",
   "nbconvert_exporter": "python",
   "pygments_lexer": "ipython3",
   "version": "3.8.5"
  },
  "toc": {
   "base_numbering": 1,
   "nav_menu": {},
   "number_sections": true,
   "sideBar": true,
   "skip_h1_title": false,
   "title_cell": "Table of Contents",
   "title_sidebar": "Contents",
   "toc_cell": true,
   "toc_position": {},
   "toc_section_display": true,
   "toc_window_display": false
  }
 },
 "nbformat": 4,
 "nbformat_minor": 4
}
